{
 "cells": [
  {
   "cell_type": "code",
   "execution_count": null,
   "id": "18494d48",
   "metadata": {},
   "outputs": [],
   "source": [
    "# Python using Pandas and Numpy for Big Data\n",
    "## Instala las librerias Pandas, Numpy, para trabajar con Data masivos"
   ]
  }
 ],
 "metadata": {
  "language_info": {
   "name": "python"
  }
 },
 "nbformat": 4,
 "nbformat_minor": 5
}
