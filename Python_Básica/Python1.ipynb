{
 "cells": [
  {
   "cell_type": "markdown",
   "id": "fdfceab3",
   "metadata": {},
   "source": [
    "# Python for Big Data\n",
    "\n",
    "1. Variables\n",
    "2. String\n",
    "3. Function print\n",
    "4. Booleanos y Condicionales\n",
    "5. Loops\n",
    "6. Functions\n",
    "7. Manejo de Excepciones "
   ]
  },
  {
   "cell_type": "markdown",
   "id": "d68cc156",
   "metadata": {},
   "source": [
    "# 1. Variables"
   ]
  },
  {
   "cell_type": "code",
   "execution_count": null,
   "id": "1a04136e",
   "metadata": {},
   "outputs": [
    {
     "ename": "NameError",
     "evalue": "name 'resultado' is not defined",
     "output_type": "error",
     "traceback": [
      "\u001b[31m---------------------------------------------------------------------------\u001b[39m",
      "\u001b[31mNameError\u001b[39m                                 Traceback (most recent call last)",
      "\u001b[36mCell\u001b[39m\u001b[36m \u001b[39m\u001b[32mIn[2]\u001b[39m\u001b[32m, line 2\u001b[39m\n\u001b[32m      1\u001b[39m \u001b[38;5;66;03m#Variable npo definida\u001b[39;00m\n\u001b[32m----> \u001b[39m\u001b[32m2\u001b[39m \u001b[43mresultado\u001b[49m\n",
      "\u001b[31mNameError\u001b[39m: name 'resultado' is not defined"
     ]
    }
   ],
   "source": [
    "#Variable no definida\n",
    "resultado"
   ]
  },
  {
   "cell_type": "code",
   "execution_count": 1,
   "id": "c51165d7",
   "metadata": {},
   "outputs": [],
   "source": [
    "# Declarando variables\n",
    "monto_deuda = 1000\n",
    "moneda = \"Soles\""
   ]
  },
  {
   "cell_type": "code",
   "execution_count": 5,
   "id": "f65972e8",
   "metadata": {},
   "outputs": [
    {
     "data": {
      "text/plain": [
       "1000"
      ]
     },
     "execution_count": 5,
     "metadata": {},
     "output_type": "execute_result"
    }
   ],
   "source": [
    "# Mostrar variable\n",
    "monto_deuda"
   ]
  },
  {
   "cell_type": "code",
   "execution_count": 2,
   "id": "223a19bb",
   "metadata": {},
   "outputs": [
    {
     "data": {
      "text/plain": [
       "'Soles'"
      ]
     },
     "execution_count": 2,
     "metadata": {},
     "output_type": "execute_result"
    }
   ],
   "source": [
    "# Mostrar moneda\n",
    "moneda"
   ]
  },
  {
   "cell_type": "code",
   "execution_count": null,
   "id": "7bf2ad4c",
   "metadata": {},
   "outputs": [],
   "source": [
    "# Interactuando con el Usuario\n",
    "monto_interes = int(input(\"Ingrese el Interes: \"))"
   ]
  },
  {
   "cell_type": "code",
   "execution_count": 3,
   "id": "fc4df8a5",
   "metadata": {},
   "outputs": [
    {
     "data": {
      "text/plain": [
       "4000"
      ]
     },
     "execution_count": 3,
     "metadata": {},
     "output_type": "execute_result"
    }
   ],
   "source": [
    "# Operando con variables\n",
    "resultado = monto_deuda * 4\n",
    "resultado"
   ]
  },
  {
   "cell_type": "code",
   "execution_count": 4,
   "id": "f191f510",
   "metadata": {},
   "outputs": [
    {
     "data": {
      "text/plain": [
       "int"
      ]
     },
     "execution_count": 4,
     "metadata": {},
     "output_type": "execute_result"
    }
   ],
   "source": [
    "# Tipo de variable\n",
    "type(monto_deuda) "
   ]
  },
  {
   "cell_type": "code",
   "execution_count": 7,
   "id": "26a8baac",
   "metadata": {},
   "outputs": [
    {
     "data": {
      "text/plain": [
       "str"
      ]
     },
     "execution_count": 7,
     "metadata": {},
     "output_type": "execute_result"
    }
   ],
   "source": [
    "type(moneda)"
   ]
  },
  {
   "cell_type": "code",
   "execution_count": 5,
   "id": "37f1c568",
   "metadata": {},
   "outputs": [
    {
     "data": {
      "text/plain": [
       "'1000'"
      ]
     },
     "execution_count": 5,
     "metadata": {},
     "output_type": "execute_result"
    }
   ],
   "source": [
    "# Cambiando tipo de variable\n",
    "str_monto_deuda = str(monto_deuda)\n",
    "str_monto_deuda"
   ]
  },
  {
   "cell_type": "code",
   "execution_count": 6,
   "id": "ff30c7ac",
   "metadata": {},
   "outputs": [
    {
     "data": {
      "text/plain": [
       "1000"
      ]
     },
     "execution_count": 6,
     "metadata": {},
     "output_type": "execute_result"
    }
   ],
   "source": [
    "int_monto_deuda = int(str_monto_deuda)\n",
    "int_monto_deuda"
   ]
  },
  {
   "cell_type": "markdown",
   "id": "5ed76b27",
   "metadata": {},
   "source": [
    "# 2. String"
   ]
  },
  {
   "cell_type": "code",
   "execution_count": 8,
   "id": "191e9678",
   "metadata": {},
   "outputs": [
    {
     "data": {
      "text/plain": [
       "'Hola'"
      ]
     },
     "execution_count": 8,
     "metadata": {},
     "output_type": "execute_result"
    }
   ],
   "source": [
    "# Concatenar\n",
    "\"Ho\" + \"la\""
   ]
  },
  {
   "cell_type": "code",
   "execution_count": 12,
   "id": "5520213f",
   "metadata": {},
   "outputs": [],
   "source": [
    "# Comillas simples o dobles\n",
    "text_1 = \"Mi primer mensaje\"\n",
    "text_2 = 'Mi segundo mensaje'"
   ]
  },
  {
   "cell_type": "code",
   "execution_count": 13,
   "id": "045548a7",
   "metadata": {},
   "outputs": [
    {
     "data": {
      "text/plain": [
       "'Mi primer mensaje'"
      ]
     },
     "execution_count": 13,
     "metadata": {},
     "output_type": "execute_result"
    }
   ],
   "source": [
    "text_1"
   ]
  },
  {
   "cell_type": "code",
   "execution_count": 14,
   "id": "b7da97b0",
   "metadata": {},
   "outputs": [
    {
     "data": {
      "text/plain": [
       "'Mi segundo mensaje'"
      ]
     },
     "execution_count": 14,
     "metadata": {},
     "output_type": "execute_result"
    }
   ],
   "source": [
    "text_2"
   ]
  },
  {
   "cell_type": "code",
   "execution_count": 15,
   "id": "ff44a878",
   "metadata": {},
   "outputs": [],
   "source": [
    "# Comillas triples\n",
    "consulta = \"\"\"\n",
    "SELECT * FROM USERS\n",
    "WHERE ID = 8\n",
    "ORDER BY ADMIN\n",
    "\"\"\""
   ]
  },
  {
   "cell_type": "code",
   "execution_count": 16,
   "id": "0beb94a5",
   "metadata": {},
   "outputs": [
    {
     "data": {
      "text/plain": [
       "'\\nSELECT * FROM USERS\\nWHERE ID = 8\\nORDER BY ADMIN\\n'"
      ]
     },
     "execution_count": 16,
     "metadata": {},
     "output_type": "execute_result"
    }
   ],
   "source": [
    "consulta"
   ]
  },
  {
   "cell_type": "code",
   "execution_count": 7,
   "id": "c3ecfa68",
   "metadata": {},
   "outputs": [],
   "source": [
    "# Operaciones con String\n",
    "Cadena_1 = \"Hola Mundo\"\n",
    "Cadena_2 = \"5\"\n",
    "Cadena_3 = \"Cinco\""
   ]
  },
  {
   "cell_type": "code",
   "execution_count": 18,
   "id": "3048cd6c",
   "metadata": {},
   "outputs": [
    {
     "data": {
      "text/plain": [
       "'Hola mundo'"
      ]
     },
     "execution_count": 18,
     "metadata": {},
     "output_type": "execute_result"
    }
   ],
   "source": [
    "Cadena_1.capitalize()"
   ]
  },
  {
   "cell_type": "code",
   "execution_count": 19,
   "id": "fec37763",
   "metadata": {},
   "outputs": [
    {
     "data": {
      "text/plain": [
       "'CINCO'"
      ]
     },
     "execution_count": 19,
     "metadata": {},
     "output_type": "execute_result"
    }
   ],
   "source": [
    "Cadena_3.upper()"
   ]
  },
  {
   "cell_type": "code",
   "execution_count": 21,
   "id": "0c866b45",
   "metadata": {},
   "outputs": [
    {
     "data": {
      "text/plain": [
       "'cinco'"
      ]
     },
     "execution_count": 21,
     "metadata": {},
     "output_type": "execute_result"
    }
   ],
   "source": [
    "Cadena_3.lower()"
   ]
  },
  {
   "cell_type": "code",
   "execution_count": 22,
   "id": "f7ff45b6",
   "metadata": {},
   "outputs": [
    {
     "data": {
      "text/plain": [
       "'Hola Mundo'"
      ]
     },
     "execution_count": 22,
     "metadata": {},
     "output_type": "execute_result"
    }
   ],
   "source": [
    "Cadena_1.title()"
   ]
  },
  {
   "cell_type": "code",
   "execution_count": 24,
   "id": "b602cd54",
   "metadata": {},
   "outputs": [
    {
     "data": {
      "text/plain": [
       "['Hola', 'Mundo']"
      ]
     },
     "execution_count": 24,
     "metadata": {},
     "output_type": "execute_result"
    }
   ],
   "source": [
    "# Dividir un String\n",
    "Cadena_1.split()"
   ]
  },
  {
   "cell_type": "code",
   "execution_count": 13,
   "id": "bd346e33",
   "metadata": {},
   "outputs": [
    {
     "data": {
      "text/plain": [
       "0"
      ]
     },
     "execution_count": 13,
     "metadata": {},
     "output_type": "execute_result"
    }
   ],
   "source": [
    "Cadena_1.count(\"substring\")"
   ]
  },
  {
   "cell_type": "code",
   "execution_count": 26,
   "id": "5c2542e6",
   "metadata": {},
   "outputs": [
    {
     "data": {
      "text/plain": [
       "10"
      ]
     },
     "execution_count": 26,
     "metadata": {},
     "output_type": "execute_result"
    }
   ],
   "source": [
    "# Longitud de una cadena\n",
    "len(Cadena_1)"
   ]
  },
  {
   "cell_type": "code",
   "execution_count": 27,
   "id": "1b737786",
   "metadata": {},
   "outputs": [
    {
     "data": {
      "text/plain": [
       "['Hola ', 'undo']"
      ]
     },
     "execution_count": 27,
     "metadata": {},
     "output_type": "execute_result"
    }
   ],
   "source": [
    "# Quitar letra STring\n",
    "Cadena_1.split('M')"
   ]
  },
  {
   "cell_type": "code",
   "execution_count": 15,
   "id": "2f73e981",
   "metadata": {},
   "outputs": [
    {
     "data": {
      "text/plain": [
       "'(Hola mundo)'"
      ]
     },
     "execution_count": 15,
     "metadata": {},
     "output_type": "execute_result"
    }
   ],
   "source": [
    "# Limitando cadena String\n",
    "Cadena_4 = '(Hola mundo)'\n",
    "Cadena_4.strip()"
   ]
  },
  {
   "cell_type": "code",
   "execution_count": 30,
   "id": "804ca29e",
   "metadata": {},
   "outputs": [
    {
     "data": {
      "text/plain": [
       "'Hola mundo'"
      ]
     },
     "execution_count": 30,
     "metadata": {},
     "output_type": "execute_result"
    }
   ],
   "source": [
    "Cadena_4.strip('(), ')"
   ]
  },
  {
   "cell_type": "code",
   "execution_count": 2,
   "id": "556468c8",
   "metadata": {},
   "outputs": [
    {
     "data": {
      "text/plain": [
       "'Hi Mundo'"
      ]
     },
     "execution_count": 2,
     "metadata": {},
     "output_type": "execute_result"
    }
   ],
   "source": [
    "# Reemplazar string\n",
    "cadena_5 = 'Hola Mundo'\n",
    "cadena_5.replace('Hola', 'Hi')"
   ]
  },
  {
   "cell_type": "code",
   "execution_count": 3,
   "id": "a29dd6cf",
   "metadata": {},
   "outputs": [
    {
     "data": {
      "text/plain": [
       "1"
      ]
     },
     "execution_count": 3,
     "metadata": {},
     "output_type": "execute_result"
    }
   ],
   "source": [
    "cadena_5.index('o')"
   ]
  },
  {
   "cell_type": "code",
   "execution_count": 4,
   "id": "8a5d0e9d",
   "metadata": {},
   "outputs": [
    {
     "data": {
      "text/plain": [
       "9"
      ]
     },
     "execution_count": 4,
     "metadata": {},
     "output_type": "execute_result"
    }
   ],
   "source": [
    "cadena_5.index(\"o\", 6)"
   ]
  },
  {
   "cell_type": "code",
   "execution_count": 10,
   "id": "b71e7c9a",
   "metadata": {},
   "outputs": [
    {
     "data": {
      "text/plain": [
       "'a'"
      ]
     },
     "execution_count": 10,
     "metadata": {},
     "output_type": "execute_result"
    }
   ],
   "source": [
    "cadena_5[3]"
   ]
  },
  {
   "cell_type": "code",
   "execution_count": 9,
   "id": "e241aa32",
   "metadata": {},
   "outputs": [
    {
     "data": {
      "text/plain": [
       "'d'"
      ]
     },
     "execution_count": 9,
     "metadata": {},
     "output_type": "execute_result"
    }
   ],
   "source": [
    "cadena_5[-2]"
   ]
  },
  {
   "cell_type": "code",
   "execution_count": 11,
   "id": "e4dfb828",
   "metadata": {},
   "outputs": [
    {
     "data": {
      "text/plain": [
       "'la M'"
      ]
     },
     "execution_count": 11,
     "metadata": {},
     "output_type": "execute_result"
    }
   ],
   "source": [
    "cadena_5[2:-4]"
   ]
  },
  {
   "cell_type": "code",
   "execution_count": 12,
   "id": "c700e73c",
   "metadata": {},
   "outputs": [
    {
     "data": {
      "text/plain": [
       "'odnuM aloH'"
      ]
     },
     "execution_count": 12,
     "metadata": {},
     "output_type": "execute_result"
    }
   ],
   "source": [
    "#Invirtiendo la Cadena\n",
    "cadena_5[::-1]"
   ]
  },
  {
   "cell_type": "code",
   "execution_count": 16,
   "id": "33e5bc6b",
   "metadata": {},
   "outputs": [
    {
     "data": {
      "text/plain": [
       "['HOLA', 'MUNDO']"
      ]
     },
     "execution_count": 16,
     "metadata": {},
     "output_type": "execute_result"
    }
   ],
   "source": [
    "#Llama a una cadena\n",
    "Cadena_4.strip('(), ').upper().split()"
   ]
  },
  {
   "cell_type": "code",
   "execution_count": 17,
   "id": "bfb3b9fb",
   "metadata": {},
   "outputs": [
    {
     "data": {
      "text/plain": [
       "'Hola Anderson este es el curso de Topicos Especiales de Inteligencia de Negocios'"
      ]
     },
     "execution_count": 17,
     "metadata": {},
     "output_type": "execute_result"
    }
   ],
   "source": [
    "# Python f-string\n",
    "nombre = 'Anderson'\n",
    "curso = 'Topicos Especiales de Inteligencia de Negocios'\n",
    "f'Hola {nombre} este es el curso de {curso}'"
   ]
  },
  {
   "cell_type": "code",
   "execution_count": 18,
   "id": "a392a2f4",
   "metadata": {},
   "outputs": [],
   "source": [
    "String_1 = 'Hola Mundo'\n",
    "String_2 = '5'\n",
    "String_3 = 'Cinco'"
   ]
  },
  {
   "cell_type": "code",
   "execution_count": 19,
   "id": "4386b39e",
   "metadata": {},
   "outputs": [
    {
     "data": {
      "text/plain": [
       "False"
      ]
     },
     "execution_count": 19,
     "metadata": {},
     "output_type": "execute_result"
    }
   ],
   "source": [
    "String_1.isdigit()"
   ]
  },
  {
   "cell_type": "code",
   "execution_count": 20,
   "id": "5901714f",
   "metadata": {},
   "outputs": [
    {
     "data": {
      "text/plain": [
       "True"
      ]
     },
     "execution_count": 20,
     "metadata": {},
     "output_type": "execute_result"
    }
   ],
   "source": [
    "String_2.isdigit()"
   ]
  },
  {
   "cell_type": "code",
   "execution_count": 21,
   "id": "4eaed764",
   "metadata": {},
   "outputs": [
    {
     "data": {
      "text/plain": [
       "True"
      ]
     },
     "execution_count": 21,
     "metadata": {},
     "output_type": "execute_result"
    }
   ],
   "source": [
    "String_3.isalpha()"
   ]
  },
  {
   "cell_type": "code",
   "execution_count": 22,
   "id": "54b7d83d",
   "metadata": {},
   "outputs": [
    {
     "data": {
      "text/plain": [
       "'abcdefghijklmnopqrstuvwxyzABCDEFGHIJKLMNOPQRSTUVWXYZ'"
      ]
     },
     "execution_count": 22,
     "metadata": {},
     "output_type": "execute_result"
    }
   ],
   "source": [
    "import string\n",
    "string.ascii_letters"
   ]
  },
  {
   "cell_type": "code",
   "execution_count": 23,
   "id": "811e0d34",
   "metadata": {},
   "outputs": [
    {
     "data": {
      "text/plain": [
       "'abcdefghijklmnopqrstuvwxyz'"
      ]
     },
     "execution_count": 23,
     "metadata": {},
     "output_type": "execute_result"
    }
   ],
   "source": [
    "string.ascii_lowercase"
   ]
  },
  {
   "cell_type": "code",
   "execution_count": 24,
   "id": "916cf59d",
   "metadata": {},
   "outputs": [
    {
     "data": {
      "text/plain": [
       "'ABCDEFGHIJKLMNOPQRSTUVWXYZ'"
      ]
     },
     "execution_count": 24,
     "metadata": {},
     "output_type": "execute_result"
    }
   ],
   "source": [
    "string.ascii_uppercase"
   ]
  }
 ],
 "metadata": {
  "kernelspec": {
   "display_name": "myenv",
   "language": "python",
   "name": "python3"
  },
  "language_info": {
   "codemirror_mode": {
    "name": "ipython",
    "version": 3
   },
   "file_extension": ".py",
   "mimetype": "text/x-python",
   "name": "python",
   "nbconvert_exporter": "python",
   "pygments_lexer": "ipython3",
   "version": "3.13.7"
  }
 },
 "nbformat": 4,
 "nbformat_minor": 5
}
